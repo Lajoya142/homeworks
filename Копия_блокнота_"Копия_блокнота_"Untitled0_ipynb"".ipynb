{
  "nbformat": 4,
  "nbformat_minor": 0,
  "metadata": {
    "colab": {
      "provenance": [],
      "authorship_tag": "ABX9TyNkERro8E9AEAwTaHz9xjvt",
      "include_colab_link": true
    },
    "kernelspec": {
      "name": "python3",
      "display_name": "Python 3"
    },
    "language_info": {
      "name": "python"
    }
  },
  "cells": [
    {
      "cell_type": "markdown",
      "metadata": {
        "id": "view-in-github",
        "colab_type": "text"
      },
      "source": [
        "<a href=\"https://colab.research.google.com/github/Lajoya142/homeworks/blob/main/%D0%9A%D0%BE%D0%BF%D0%B8%D1%8F_%D0%B1%D0%BB%D0%BE%D0%BA%D0%BD%D0%BE%D1%82%D0%B0_%22%D0%9A%D0%BE%D0%BF%D0%B8%D1%8F_%D0%B1%D0%BB%D0%BE%D0%BA%D0%BD%D0%BE%D1%82%D0%B0_%22Untitled0_ipynb%22%22.ipynb\" target=\"_parent\"><img src=\"https://colab.research.google.com/assets/colab-badge.svg\" alt=\"Open In Colab\"/></a>"
      ]
    },
    {
      "cell_type": "code",
      "execution_count": null,
      "metadata": {
        "id": "YxYoSjKLuxLc"
      },
      "outputs": [],
      "source": []
    },
    {
      "cell_type": "markdown",
      "source": [
        "5\n"
      ],
      "metadata": {
        "id": "xLp0x4yfVjxf"
      }
    },
    {
      "cell_type": "markdown",
      "source": [
        "![image.png](data:image/png;base64,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)"
      ],
      "metadata": {
        "id": "2RbCb5YMwR57"
      }
    },
    {
      "cell_type": "markdown",
      "source": [
        "1"
      ],
      "metadata": {
        "id": "2GQtdcR_w7it"
      }
    },
    {
      "cell_type": "code",
      "source": [
        "from  math import sin, cos, exp\n",
        "x=float(input('x='))\n",
        "y=(sin(x))**2+cos(x)*3*exp(-2*x)\n",
        "print(y)"
      ],
      "metadata": {
        "colab": {
          "base_uri": "https://localhost:8080/"
        },
        "id": "eDRyPSkawTLr",
        "outputId": "11723707-9bdb-436a-8618-1ce535f18c96"
      },
      "execution_count": null,
      "outputs": [
        {
          "output_type": "stream",
          "name": "stdout",
          "text": [
            "x=1\n",
            "0.9274393150677501\n"
          ]
        }
      ]
    },
    {
      "cell_type": "markdown",
      "source": [
        "2"
      ],
      "metadata": {
        "id": "nqMsDnwEw9ft"
      }
    },
    {
      "cell_type": "code",
      "source": [
        "from math import exp\n",
        "x=float(input('x='))\n",
        "z=exp(9*x)+3*exp(-2*x)\n",
        "print(z)"
      ],
      "metadata": {
        "colab": {
          "base_uri": "https://localhost:8080/"
        },
        "id": "WXEl_rX1w-Ik",
        "outputId": "ad124520-0392-48d6-d697-312404883a2c"
      },
      "execution_count": null,
      "outputs": [
        {
          "output_type": "stream",
          "name": "stdout",
          "text": [
            "x=2\n",
            "65659969.192277424\n"
          ]
        }
      ]
    },
    {
      "cell_type": "markdown",
      "source": [
        "3\n"
      ],
      "metadata": {
        "id": "Q6WFzgQ-2ziu"
      }
    },
    {
      "cell_type": "code",
      "source": [
        "from math import sqrt\n",
        "x1=float(input('x1:'))\n",
        "x2=float(input('x2:'))\n",
        "y1=float(input('y1:'))\n",
        "y2=float(input('y2:'))\n",
        "S=sqrt((x2-x1)**2+(y2-y1)**2)\n",
        "print(S)"
      ],
      "metadata": {
        "colab": {
          "base_uri": "https://localhost:8080/"
        },
        "id": "luUtt_rW22N_",
        "outputId": "ec85c5b3-4d2c-45a6-c900-2d059717f7c2"
      },
      "execution_count": null,
      "outputs": [
        {
          "output_type": "stream",
          "name": "stdout",
          "text": [
            "x1:5\n",
            "x2:18\n",
            "y1:11\n",
            "y2:21\n",
            "16.401219466856727\n"
          ]
        }
      ]
    },
    {
      "cell_type": "markdown",
      "source": [
        "4"
      ],
      "metadata": {
        "id": "c66JLSuq4kQw"
      }
    },
    {
      "cell_type": "code",
      "source": [
        "a=int(input('a:'))\n",
        "b=int(input('b:'))\n",
        "y=a>2 and b<=3\n",
        "print(y)\n"
      ],
      "metadata": {
        "id": "BG9A1lT94lGu",
        "colab": {
          "base_uri": "https://localhost:8080/"
        },
        "outputId": "41e495ab-e48e-4acf-f1b5-7acc21e35a69"
      },
      "execution_count": null,
      "outputs": [
        {
          "output_type": "stream",
          "name": "stdout",
          "text": [
            "a:5\n",
            "b:3\n",
            "True\n"
          ]
        }
      ]
    },
    {
      "cell_type": "markdown",
      "source": [
        "5\n"
      ],
      "metadata": {
        "id": "jLZKYWOjZg0E"
      }
    },
    {
      "cell_type": "code",
      "source": [
        "number=int(input('n:'))\n",
        "a=n//100\n",
        "b=(n//10)%10\n",
        "c=n%10\n",
        "S=a*100+b+c*10\n",
        "print(S)\n",
        "\n"
      ],
      "metadata": {
        "colab": {
          "base_uri": "https://localhost:8080/"
        },
        "id": "fVZYBWk6Zh1s",
        "outputId": "69bf0626-4f80-4004-9de3-fa11527ccf9d"
      },
      "execution_count": null,
      "outputs": [
        {
          "output_type": "stream",
          "name": "stdout",
          "text": [
            "n:123\n",
            "132\n"
          ]
        }
      ]
    },
    {
      "cell_type": "code",
      "source": [],
      "metadata": {
        "id": "m9chEw0f3_19"
      },
      "execution_count": null,
      "outputs": []
    }
  ]
}