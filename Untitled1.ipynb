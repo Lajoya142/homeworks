{
  "nbformat": 4,
  "nbformat_minor": 0,
  "metadata": {
    "colab": {
      "provenance": [],
      "authorship_tag": "ABX9TyNOgcHh9DGWBp5aDGC5+ART",
      "include_colab_link": true
    },
    "kernelspec": {
      "name": "python3",
      "display_name": "Python 3"
    },
    "language_info": {
      "name": "python"
    }
  },
  "cells": [
    {
      "cell_type": "markdown",
      "metadata": {
        "id": "view-in-github",
        "colab_type": "text"
      },
      "source": [
        "<a href=\"https://colab.research.google.com/github/Lajoya142/homeworks/blob/main/Untitled1.ipynb\" target=\"_parent\"><img src=\"https://colab.research.google.com/assets/colab-badge.svg\" alt=\"Open In Colab\"/></a>"
      ]
    },
    {
      "cell_type": "markdown",
      "source": [
        "Даны три целых числа. Найти количество положительных чисел в исходном наборе."
      ],
      "metadata": {
        "id": "r7KC_qQDMhWG"
      }
    },
    {
      "cell_type": "code",
      "execution_count": 3,
      "metadata": {
        "colab": {
          "base_uri": "https://localhost:8080/"
        },
        "id": "CJ7G9RpiKuT0",
        "outputId": "c4754166-7fc7-432b-a769-d46ff02990fa"
      },
      "outputs": [
        {
          "output_type": "stream",
          "name": "stdout",
          "text": [
            "a=2\n",
            "b=-5\n",
            "c=3\n",
            "2\n"
          ]
        }
      ],
      "source": [
        "a=int(input('a='))\n",
        "b=int(input('b='))\n",
        "c=int(input('c='))\n",
        "k=0\n",
        "if a>0:\n",
        "  k=k+1\n",
        "if b>0:\n",
        "  k=k+1\n",
        "if c>0:\n",
        "  k=k+1\n",
        "print(k)"
      ]
    },
    {
      "cell_type": "markdown",
      "source": [
        "Даны три целых числа. Найти количество положительных и количество отрицательных чисел в исходном наборе"
      ],
      "metadata": {
        "id": "ze1nI1UENWAE"
      }
    },
    {
      "cell_type": "code",
      "source": [
        "a=int(input('a='))\n",
        "b=int(input('b='))\n",
        "c=int(input('c='))\n",
        "k=0\n",
        "if a>0:\n",
        "  k=k+1\n",
        "if b>0:\n",
        "  k=k+1\n",
        "if c>0:\n",
        "  k=k+1\n",
        "  r=0\n",
        "if a<0:\n",
        "  r=r+1\n",
        "if b<0:\n",
        "  r=r+1\n",
        "if c<0:\n",
        "  r=r+1\n",
        "print(k,r, 3-k-r)\n",
        "\n"
      ],
      "metadata": {
        "colab": {
          "base_uri": "https://localhost:8080/"
        },
        "id": "kGOthidgM0TN",
        "outputId": "6f307737-7408-489c-87d2-656bbafb2666"
      },
      "execution_count": 15,
      "outputs": [
        {
          "output_type": "stream",
          "name": "stdout",
          "text": [
            "a=1\n",
            "b=-2\n",
            "c=-3\n",
            "1 2 0\n"
          ]
        }
      ]
    },
    {
      "cell_type": "code",
      "source": [],
      "metadata": {
        "id": "ofoOyCTrRT73"
      },
      "execution_count": null,
      "outputs": []
    },
    {
      "cell_type": "markdown",
      "source": [
        "3 Задача. Даны два числа. вывести большее из них."
      ],
      "metadata": {
        "id": "iul_SFMTOtmi"
      }
    },
    {
      "cell_type": "code",
      "source": [
        "a=float(input('a='))\n",
        "b=float(input('b='))\n",
        "if a>b:\n",
        "  print(a)\n",
        "else:\n",
        "  print(b)"
      ],
      "metadata": {
        "colab": {
          "base_uri": "https://localhost:8080/"
        },
        "id": "xrCV6JmYOLsx",
        "outputId": "4e7aaf2f-0693-495b-e57f-38e0ebdd6145"
      },
      "execution_count": 9,
      "outputs": [
        {
          "output_type": "stream",
          "name": "stdout",
          "text": [
            "a=10\n",
            "b=25\n",
            "25.0\n"
          ]
        }
      ]
    },
    {
      "cell_type": "markdown",
      "source": [
        "4 задача. Даны три числа. Вывести большее из них"
      ],
      "metadata": {
        "id": "zDKoc4-OO3V0"
      }
    },
    {
      "cell_type": "code",
      "source": [
        "a=float(input('a='))\n",
        "b=float(input('b='))\n",
        "с=float(input('c='))\n",
        "mx=a\n",
        "if mx<b:\n",
        "  mx=b\n",
        "if mx<c:\n",
        "  mx=c\n",
        "print(mx)\n"
      ],
      "metadata": {
        "colab": {
          "base_uri": "https://localhost:8080/"
        },
        "id": "XMRWREnLO2gV",
        "outputId": "4e811039-0635-4858-adb8-7a282d0307bc"
      },
      "execution_count": 14,
      "outputs": [
        {
          "output_type": "stream",
          "name": "stdout",
          "text": [
            "a=2\n",
            "b=7\n",
            "c=5\n",
            "7.0\n"
          ]
        }
      ]
    },
    {
      "cell_type": "markdown",
      "source": [
        "5 задача. Даны три числа. Найти среднее из них, то есть число, расположенное между наименьшим и наибольшим."
      ],
      "metadata": {
        "id": "xMemgH7TRWc0"
      }
    },
    {
      "cell_type": "code",
      "source": [
        "a=float(input('a='))\n",
        "b=float(input('b='))\n",
        "с=float(input('c='))\n",
        "mx=a\n",
        "if mx<b:\n",
        "  mx=b\n",
        "if mx<c:\n",
        "  mx=c\n",
        "mn=a\n",
        "if mn>b:\n",
        "  mn=b\n",
        "if mn>c:\n",
        "  mn=c\n",
        "S=(a+b+c)-mx-mn\n",
        "print(S)"
      ],
      "metadata": {
        "colab": {
          "base_uri": "https://localhost:8080/"
        },
        "id": "5O96NI3JRVwq",
        "outputId": "3c90a2e2-b6d8-4b09-8a7f-36edf461a958"
      },
      "execution_count": 17,
      "outputs": [
        {
          "output_type": "stream",
          "name": "stdout",
          "text": [
            "a=7\n",
            "b=5\n",
            "c=2\n",
            "5.0\n"
          ]
        }
      ]
    },
    {
      "cell_type": "markdown",
      "source": [
        "6 задача. Даны три целых числа, одно из которых отлично от двух других, разных между собой. Определить порядковый номер числа отличного от остальных\n"
      ],
      "metadata": {
        "id": "po2fvG4cS8Q5"
      }
    },
    {
      "cell_type": "code",
      "source": [
        "a=int(input('a='))\n",
        "b=int(input('b='))\n",
        "c=int(input('c='))\n",
        "k=0\n",
        "if a==b and b!=c:\n",
        "  k=3\n",
        "if a==c and c!=b:\n",
        "  k=2\n",
        "if b==c and a!=c:\n",
        "  k=1\n",
        "print(k)"
      ],
      "metadata": {
        "colab": {
          "base_uri": "https://localhost:8080/"
        },
        "id": "m6ldsPwKS7iO",
        "outputId": "f792a5c4-d3b5-446e-e1ea-599c0167c649"
      },
      "execution_count": 20,
      "outputs": [
        {
          "output_type": "stream",
          "name": "stdout",
          "text": [
            "a=5\n",
            "b=2\n",
            "c=2\n",
            "1\n"
          ]
        }
      ]
    }
  ]
}